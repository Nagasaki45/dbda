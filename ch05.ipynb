{
 "cells": [
  {
   "cell_type": "markdown",
   "metadata": {},
   "source": [
    "# Baye's Rule\n",
    "\n",
    "## Exercise 1 - Iterative application of Baye's rule\n",
    "\n",
    "From previous calculation we know that\n",
    "\n",
    "    p(ill | positive test) = 0.019\n",
    "\n",
    "Now, we need to calculate\n",
    "\n",
    "    p(ill | positive test followed by negative test)\n",
    "\n",
    "We can use the priviously calculated posterior `p(ill | +) = 0.19` as the prior, considering that we got someone who was tested positively."
   ]
  },
  {
   "cell_type": "code",
   "execution_count": 1,
   "metadata": {},
   "outputs": [],
   "source": [
    "# Setting up probabilities\n",
    "p_ill = 0.019\n",
    "p_healthy = 1 - p_ill\n",
    "p_positive_given_ill = 0.99\n",
    "p_negative_given_ill = 1 - p_positive_given_ill\n",
    "p_positive_given_healthy = 0.05\n",
    "p_negative_given_healthy = 1 - p_positive_given_healthy"
   ]
  },
  {
   "cell_type": "code",
   "execution_count": 2,
   "metadata": {},
   "outputs": [
    {
     "name": "stdout",
     "output_type": "stream",
     "text": [
      "The posterior probability (being ill after positive followed by negative tests) is 0.000203832042397065\n"
     ]
    }
   ],
   "source": [
    "# Calculating posterior\n",
    "prior = p_ill\n",
    "likelihood = p_negative_given_ill\n",
    "evidence = p_negative_given_ill * p_ill + p_negative_given_healthy * p_healthy\n",
    "posterior = likelihood * prior / evidence\n",
    "print('The posterior probability (being ill after positive followed by negative tests) is {}'.format(posterior))"
   ]
  },
  {
   "cell_type": "markdown",
   "metadata": {},
   "source": [
    "## Exercise 2 - Getting intuition by mapping to population\n",
    "\n",
    "### A)\n",
    "\n",
    "|                | :(  | :)                      | test margin        |\n",
    "|----------------|-----|-------------------------|--------------------|\n",
    "|  +             | 99  | 0.05 * 99,900 = 4,995   | 99 + 4,995 = 5,094 |\n",
    "|  -             | 1   | 99,900 - 4,995 = 94,905 | 94,906             |\n",
    "| desease margin | 100 | 9,900                   | 100,000            |\n",
    "\n",
    "\n",
    "### B)\n",
    "\n",
    "Ill people from those with positive results:"
   ]
  },
  {
   "cell_type": "code",
   "execution_count": 3,
   "metadata": {},
   "outputs": [
    {
     "data": {
      "text/plain": [
       "0.019434628975265017"
      ]
     },
     "execution_count": 3,
     "metadata": {},
     "output_type": "execute_result"
    }
   ],
   "source": [
    "99 / 5094"
   ]
  },
  {
   "cell_type": "markdown",
   "metadata": {},
   "source": [
    "### C)\n",
    "                  N = 10,000,000\n",
    "       * p :(     /            \\     * p :)\n",
    "               10,000       9,990,000\n",
    "       * p +|:(  |              |    * p +|:)\n",
    "                9,900         499,500\n",
    "       * p -|:(  |              |    * p -|:)\n",
    "                   99         474,525 (From 10M, num of once positive once negative)\n",
    "\n",
    "### D)"
   ]
  },
  {
   "cell_type": "code",
   "execution_count": 4,
   "metadata": {},
   "outputs": [
    {
     "data": {
      "text/plain": [
       "0.00020858616504854368"
      ]
     },
     "execution_count": 4,
     "metadata": {},
     "output_type": "execute_result"
    }
   ],
   "source": [
    "99 / (99 + 474525)"
   ]
  },
  {
   "cell_type": "markdown",
   "metadata": {},
   "source": [
    "This is equal to the computed result of exercise 1."
   ]
  },
  {
   "cell_type": "markdown",
   "metadata": {},
   "source": [
    "## Exercise 3\n",
    "\n",
    "### A)"
   ]
  },
  {
   "cell_type": "code",
   "execution_count": 5,
   "metadata": {},
   "outputs": [],
   "source": [
    "# Setting up probabilities\n",
    "p_ill = 0.001\n",
    "p_healthy = 1 - p_ill\n",
    "p_positive_given_ill = 0.99\n",
    "p_negative_given_ill = 1 - p_positive_given_ill\n",
    "p_positive_given_healthy = 0.05\n",
    "p_negative_given_healthy = 1 - p_positive_given_healthy"
   ]
  },
  {
   "cell_type": "code",
   "execution_count": 6,
   "metadata": {},
   "outputs": [
    {
     "name": "stdout",
     "output_type": "stream",
     "text": [
      "The posterior probability (being ill after negative tests) is 1.0536741618022054e-05\n"
     ]
    }
   ],
   "source": [
    "# Calculating posterior\n",
    "prior = p_ill\n",
    "likelihood = p_negative_given_ill\n",
    "evidence = p_negative_given_ill * p_ill + p_negative_given_healthy * p_healthy\n",
    "posterior = likelihood * prior / evidence\n",
    "print('The posterior probability (being ill after negative tests) is {}'.format(posterior))"
   ]
  },
  {
   "cell_type": "markdown",
   "metadata": {},
   "source": [
    "### B)\n",
    "\n",
    "Let's update the prior with the privious posterior and calculate the probability that this person is ill after getting another test, which returned positive."
   ]
  },
  {
   "cell_type": "code",
   "execution_count": 7,
   "metadata": {},
   "outputs": [],
   "source": [
    "# Updating probabilities\n",
    "p_ill = posterior\n",
    "p_healthy = 1 - p_ill"
   ]
  },
  {
   "cell_type": "code",
   "execution_count": 8,
   "metadata": {},
   "outputs": [
    {
     "name": "stdout",
     "output_type": "stream",
     "text": [
      "The posterior probability (being ill after negative tests) is 0.0002085861650485439\n"
     ]
    }
   ],
   "source": [
    "# Calculating posterior\n",
    "prior = p_ill\n",
    "likelihood = p_positive_given_ill\n",
    "evidence = p_positive_given_ill * p_ill + p_positive_given_healthy * p_healthy\n",
    "posterior = likelihood * prior / evidence\n",
    "print('The posterior probability (being ill after negative tests) is {}'.format(posterior))"
   ]
  },
  {
   "cell_type": "markdown",
   "metadata": {},
   "source": [
    "The result match the result from exercise 5.1."
   ]
  }
 ],
 "metadata": {
  "kernelspec": {
   "display_name": "Python 3",
   "language": "python",
   "name": "python3"
  },
  "language_info": {
   "codemirror_mode": {
    "name": "ipython",
    "version": 3
   },
   "file_extension": ".py",
   "mimetype": "text/x-python",
   "name": "python",
   "nbconvert_exporter": "python",
   "pygments_lexer": "ipython3",
   "version": "3.8.3"
  }
 },
 "nbformat": 4,
 "nbformat_minor": 1
}
