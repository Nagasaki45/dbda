{
 "cells": [
  {
   "cell_type": "markdown",
   "metadata": {},
   "source": [
    "# Introduction: Credibility, Models, and Parameters\n",
    "\n",
    "## Exercise 1 - Manipulating probabilities\n",
    "\n",
    "#### Model A: p(x) = 1 / 4\n",
    "\n",
    "p(1) = p(2) = p(3) = p(4) = 1 / 4\n",
    "\n",
    "All die sides are equally probable.\n",
    "\n",
    "#### Model B: p(x) = x / 10\n",
    "\n",
    "p(1) = 0.1\n",
    "\n",
    "p(2) = 0.2\n",
    "\n",
    "p(3) = 0.3\n",
    "\n",
    "p(4) = 0.4\n",
    "\n",
    "The higher the number on the die the more probable it is.\n",
    "\n",
    "#### Model C: p(x) = 12 / (25x)\n",
    "\n",
    "p(1) = 12 / 25\n",
    "\n",
    "p(2) = 12 / 50\n",
    "\n",
    "p(3) = 12 / 75\n",
    "\n",
    "p(4) = 12 / 100\n",
    "\n",
    "The lower the number on the die the more probable it is."
   ]
  },
  {
   "cell_type": "markdown",
   "metadata": {},
   "source": [
    "## Exercise 2 - Credibility shifts\n",
    "\n",
    "Prior: p(A) = p(B) = p(C) = 1 / 3\n",
    "\n",
    "#### Case 1:\n",
    "\n",
    "We roll the die 100 times and got each side to appear 25 times. We shift credibility toward model A. Now it's the most credible.\n",
    "\n",
    "#### Case 2:\n",
    "\n",
    "We roll the die 100 times and got: #1's = 48, #2's = 24, #3's = 16, #4's = 12.\n",
    "\n",
    "The most credible model now is model C."
   ]
  }
 ],
 "metadata": {
  "kernelspec": {
   "display_name": "Python 3",
   "language": "python",
   "name": "python3"
  },
  "language_info": {
   "codemirror_mode": {
    "name": "ipython",
    "version": 3
   },
   "file_extension": ".py",
   "mimetype": "text/x-python",
   "name": "python",
   "nbconvert_exporter": "python",
   "pygments_lexer": "ipython3",
   "version": "3.8.3"
  }
 },
 "nbformat": 4,
 "nbformat_minor": 1
}
