{
 "cells": [
  {
   "cell_type": "markdown",
   "metadata": {},
   "source": [
    "# Introduction to probability\n",
    "\n",
    "## Exercise 1 - Working with conditional probabilities\n",
    "\n",
    "Hair / Eye colors dataset was fetched from https://stat.ethz.ch/R-manual/R-devel/library/datasets/html/HairEyeColor.html."
   ]
  },
  {
   "cell_type": "code",
   "execution_count": 1,
   "metadata": {},
   "outputs": [],
   "source": [
    "import pandas as pd"
   ]
  },
  {
   "cell_type": "code",
   "execution_count": 2,
   "metadata": {
    "scrolled": true
   },
   "outputs": [
    {
     "data": {
      "text/html": [
       "<div>\n",
       "<style scoped>\n",
       "    .dataframe tbody tr th:only-of-type {\n",
       "        vertical-align: middle;\n",
       "    }\n",
       "\n",
       "    .dataframe tbody tr th {\n",
       "        vertical-align: top;\n",
       "    }\n",
       "\n",
       "    .dataframe thead th {\n",
       "        text-align: right;\n",
       "    }\n",
       "</style>\n",
       "<table border=\"1\" class=\"dataframe\">\n",
       "  <thead>\n",
       "    <tr style=\"text-align: right;\">\n",
       "      <th></th>\n",
       "      <th></th>\n",
       "      <th>Black</th>\n",
       "      <th>Brown</th>\n",
       "      <th>Red</th>\n",
       "      <th>Blond</th>\n",
       "    </tr>\n",
       "    <tr>\n",
       "      <th>Gender</th>\n",
       "      <th>Eye</th>\n",
       "      <th></th>\n",
       "      <th></th>\n",
       "      <th></th>\n",
       "      <th></th>\n",
       "    </tr>\n",
       "  </thead>\n",
       "  <tbody>\n",
       "    <tr>\n",
       "      <th rowspan=\"4\" valign=\"top\">M</th>\n",
       "      <th>Brown</th>\n",
       "      <td>32</td>\n",
       "      <td>53</td>\n",
       "      <td>10</td>\n",
       "      <td>3</td>\n",
       "    </tr>\n",
       "    <tr>\n",
       "      <th>Blue</th>\n",
       "      <td>11</td>\n",
       "      <td>50</td>\n",
       "      <td>10</td>\n",
       "      <td>30</td>\n",
       "    </tr>\n",
       "    <tr>\n",
       "      <th>Hazel</th>\n",
       "      <td>10</td>\n",
       "      <td>25</td>\n",
       "      <td>7</td>\n",
       "      <td>5</td>\n",
       "    </tr>\n",
       "    <tr>\n",
       "      <th>Green</th>\n",
       "      <td>3</td>\n",
       "      <td>15</td>\n",
       "      <td>7</td>\n",
       "      <td>8</td>\n",
       "    </tr>\n",
       "    <tr>\n",
       "      <th rowspan=\"4\" valign=\"top\">F</th>\n",
       "      <th>Brown</th>\n",
       "      <td>36</td>\n",
       "      <td>66</td>\n",
       "      <td>16</td>\n",
       "      <td>4</td>\n",
       "    </tr>\n",
       "    <tr>\n",
       "      <th>Blue</th>\n",
       "      <td>9</td>\n",
       "      <td>34</td>\n",
       "      <td>7</td>\n",
       "      <td>64</td>\n",
       "    </tr>\n",
       "    <tr>\n",
       "      <th>Hazel</th>\n",
       "      <td>5</td>\n",
       "      <td>29</td>\n",
       "      <td>7</td>\n",
       "      <td>5</td>\n",
       "    </tr>\n",
       "    <tr>\n",
       "      <th>Green</th>\n",
       "      <td>2</td>\n",
       "      <td>14</td>\n",
       "      <td>7</td>\n",
       "      <td>8</td>\n",
       "    </tr>\n",
       "  </tbody>\n",
       "</table>\n",
       "</div>"
      ],
      "text/plain": [
       "              Black  Brown  Red  Blond\n",
       "Gender Eye                            \n",
       "M      Brown     32     53   10      3\n",
       "       Blue      11     50   10     30\n",
       "       Hazel     10     25    7      5\n",
       "       Green      3     15    7      8\n",
       "F      Brown     36     66   16      4\n",
       "       Blue       9     34    7     64\n",
       "       Hazel      5     29    7      5\n",
       "       Green      2     14    7      8"
      ]
     },
     "execution_count": 2,
     "metadata": {},
     "output_type": "execute_result"
    }
   ],
   "source": [
    "df = pd.read_csv('data/hair_eye_color.csv')\n",
    "df.set_index(['Gender', 'Eye'])"
   ]
  },
  {
   "cell_type": "code",
   "execution_count": 3,
   "metadata": {},
   "outputs": [
    {
     "data": {
      "text/html": [
       "<div>\n",
       "<style scoped>\n",
       "    .dataframe tbody tr th:only-of-type {\n",
       "        vertical-align: middle;\n",
       "    }\n",
       "\n",
       "    .dataframe tbody tr th {\n",
       "        vertical-align: top;\n",
       "    }\n",
       "\n",
       "    .dataframe thead th {\n",
       "        text-align: right;\n",
       "    }\n",
       "</style>\n",
       "<table border=\"1\" class=\"dataframe\">\n",
       "  <thead>\n",
       "    <tr style=\"text-align: right;\">\n",
       "      <th></th>\n",
       "      <th>Black</th>\n",
       "      <th>Brown</th>\n",
       "      <th>Red</th>\n",
       "      <th>Blond</th>\n",
       "    </tr>\n",
       "    <tr>\n",
       "      <th>Eye</th>\n",
       "      <th></th>\n",
       "      <th></th>\n",
       "      <th></th>\n",
       "      <th></th>\n",
       "    </tr>\n",
       "  </thead>\n",
       "  <tbody>\n",
       "    <tr>\n",
       "      <th>Blue</th>\n",
       "      <td>0.03</td>\n",
       "      <td>0.14</td>\n",
       "      <td>0.03</td>\n",
       "      <td>0.16</td>\n",
       "    </tr>\n",
       "    <tr>\n",
       "      <th>Brown</th>\n",
       "      <td>0.11</td>\n",
       "      <td>0.20</td>\n",
       "      <td>0.04</td>\n",
       "      <td>0.01</td>\n",
       "    </tr>\n",
       "    <tr>\n",
       "      <th>Green</th>\n",
       "      <td>0.01</td>\n",
       "      <td>0.05</td>\n",
       "      <td>0.02</td>\n",
       "      <td>0.03</td>\n",
       "    </tr>\n",
       "    <tr>\n",
       "      <th>Hazel</th>\n",
       "      <td>0.03</td>\n",
       "      <td>0.09</td>\n",
       "      <td>0.02</td>\n",
       "      <td>0.02</td>\n",
       "    </tr>\n",
       "  </tbody>\n",
       "</table>\n",
       "</div>"
      ],
      "text/plain": [
       "       Black  Brown   Red  Blond\n",
       "Eye                             \n",
       "Blue    0.03   0.14  0.03   0.16\n",
       "Brown   0.11   0.20  0.04   0.01\n",
       "Green   0.01   0.05  0.02   0.03\n",
       "Hazel   0.03   0.09  0.02   0.02"
      ]
     },
     "execution_count": 3,
     "metadata": {},
     "output_type": "execute_result"
    }
   ],
   "source": [
    "# Sum across gender (table 4.1)\n",
    "frequencies = df.groupby('Eye').sum()\n",
    "total = df.set_index(['Gender', 'Eye']).sum().sum()\n",
    "probabilities = (frequencies / total)\n",
    "probabilities.round(2)"
   ]
  },
  {
   "cell_type": "code",
   "execution_count": 4,
   "metadata": {},
   "outputs": [
    {
     "data": {
      "text/plain": [
       "Eye\n",
       "Brown    0.37\n",
       "Blue     0.36\n",
       "Hazel    0.16\n",
       "Green    0.11\n",
       "dtype: float64"
      ]
     },
     "execution_count": 4,
     "metadata": {},
     "output_type": "execute_result"
    }
   ],
   "source": [
    "# Sum across gender and hair color (table 4.1 eye color margin)\n",
    "eye_probability = probabilities.sum(axis=1).sort_values(ascending=False)\n",
    "eye_probability.round(2)"
   ]
  },
  {
   "cell_type": "code",
   "execution_count": 5,
   "metadata": {},
   "outputs": [
    {
     "data": {
      "text/plain": [
       "Black    0.18\n",
       "Brown    0.48\n",
       "Red      0.12\n",
       "Blond    0.21\n",
       "dtype: float64"
      ]
     },
     "execution_count": 5,
     "metadata": {},
     "output_type": "execute_result"
    }
   ],
   "source": [
    "# Sum across gender and eye color (table 4.1 hair color margin)\n",
    "hair_probability = probabilities.sum(axis=0)\n",
    "hair_probability.round(2)"
   ]
  },
  {
   "cell_type": "code",
   "execution_count": 6,
   "metadata": {},
   "outputs": [
    {
     "data": {
      "text/plain": [
       "Black    0.09\n",
       "Brown    0.39\n",
       "Red      0.08\n",
       "Blond    0.44\n",
       "Name: Blue, dtype: float64"
      ]
     },
     "execution_count": 6,
     "metadata": {},
     "output_type": "execute_result"
    }
   ],
   "source": [
    "# Hair probability conditional on blue eyes\n",
    "(probabilities.loc['Blue'] / eye_probability['Blue']).round(2)"
   ]
  },
  {
   "cell_type": "markdown",
   "metadata": {},
   "source": [
    "### More examples"
   ]
  },
  {
   "cell_type": "code",
   "execution_count": 7,
   "metadata": {},
   "outputs": [
    {
     "data": {
      "text/plain": [
       "Black    0.31\n",
       "Brown    0.54\n",
       "Red      0.12\n",
       "Blond    0.03\n",
       "Name: Brown, dtype: float64"
      ]
     },
     "execution_count": 7,
     "metadata": {},
     "output_type": "execute_result"
    }
   ],
   "source": [
    "# Hair color probabilities given brown eyes\n",
    "(probabilities.loc['Brown'] / eye_probability['Brown']).round(2)"
   ]
  },
  {
   "cell_type": "code",
   "execution_count": 8,
   "metadata": {},
   "outputs": [
    {
     "data": {
      "text/plain": [
       "Eye\n",
       "Blue     0.29\n",
       "Brown    0.42\n",
       "Green    0.10\n",
       "Hazel    0.19\n",
       "Name: Brown, dtype: float64"
      ]
     },
     "execution_count": 8,
     "metadata": {},
     "output_type": "execute_result"
    }
   ],
   "source": [
    "# Eye color probabilities given brown hair\n",
    "(probabilities['Brown'] / hair_probability['Brown']).round(2)"
   ]
  },
  {
   "cell_type": "markdown",
   "metadata": {},
   "source": [
    "## Exercise 2 - Simulate running proportion"
   ]
  },
  {
   "cell_type": "code",
   "execution_count": 9,
   "metadata": {},
   "outputs": [],
   "source": [
    "import numpy as np\n",
    "import matplotlib.pyplot as plt"
   ]
  },
  {
   "cell_type": "code",
   "execution_count": 10,
   "metadata": {},
   "outputs": [
    {
     "name": "stdout",
     "output_type": "stream",
     "text": [
      "End proportion: 0.806\n"
     ]
    },
    {
     "data": {
      "image/png": "[encoded data removed]",
      "text/plain": [
       "<Figure size 432x288 with 1 Axes>"
      ]
     },
     "metadata": {
      "needs_background": "light"
     },
     "output_type": "display_data"
    }
   ],
   "source": [
    "N = 500\n",
    "p_head = .8\n",
    "\n",
    "coin_flips = np.random.rand(N) < p_head\n",
    "running_avarage = np.cumsum(coin_flips) / (np.arange(N) + 1)\n",
    "print('End proportion: {}'.format(running_avarage[-1]))\n",
    "\n",
    "# Plot\n",
    "plt.title('Running proportion of heads')\n",
    "plt.gca().set(xscale='log')\n",
    "plt.plot(running_avarage)\n",
    "plt.ylim(0, 1.1)\n",
    "plt.xlabel('Flip number')\n",
    "plt.ylabel('Proportion heads')\n",
    "# Plot proportion line\n",
    "plt.plot((0, N), (p_head, p_head), linestyle='dashed');"
   ]
  },
  {
   "cell_type": "markdown",
   "metadata": {},
   "source": [
    "## Exercise 3 - Deriving a long run proportions analytically\n",
    "\n",
    "In a pinochle deck there are 6 values: 9, 10, Jack, Queen, King, and Ace. There are 2 card from each value for each of the standard suits.\n",
    "\n",
    "**(A)** The probability for each value is the same, and there are 6 different values. Therefore, the probability to get a 10 is 1 / 6.\n",
    "\n",
    "**(B)** The probability to get a 10 or Jack is 2 / 6.\n",
    "\n",
    "## Exercise 4 - Working with probability density functions"
   ]
  },
  {
   "cell_type": "code",
   "execution_count": 11,
   "metadata": {},
   "outputs": [],
   "source": [
    "def p(x):\n",
    "    return 6 * x * (1 - x)"
   ]
  },
  {
   "cell_type": "markdown",
   "metadata": {},
   "source": [
    "**(A)** Plot and approximate the integral."
   ]
  },
  {
   "cell_type": "code",
   "execution_count": 12,
   "metadata": {},
   "outputs": [
    {
     "data": {
      "image/png": "[encoded data removed]",
      "text/plain": [
       "<Figure size 432x288 with 1 Axes>"
      ]
     },
     "metadata": {
      "needs_background": "light"
     },
     "output_type": "display_data"
    }
   ],
   "source": [
    "dx = 0.01\n",
    "x = np.arange(0, 1, dx)\n",
    "plt.plot(x, p(x))\n",
    "plt.xlabel('$x$')\n",
    "plt.ylabel('$y = 6x(1 - x)$')\n",
    "plt.title('Probability density function');"
   ]
  },
  {
   "cell_type": "code",
   "execution_count": 13,
   "metadata": {},
   "outputs": [
    {
     "name": "stdout",
     "output_type": "stream",
     "text": [
      "Approximated integral = 0.9999\n"
     ]
    }
   ],
   "source": [
    "integral = np.sum(p(x) * dx)\n",
    "print('Approximated integral = {}'.format(integral))"
   ]
  },
  {
   "cell_type": "markdown",
   "metadata": {},
   "source": [
    "**(B)** Deriving the integral analytically:\n",
    "\n",
    "$$\\int_{0}^{1}dx\\ 6x(1 - x) = \\int_{0}^{1}dx\\ 6x - 6x ^ 2 = 3x ^ 2 - 2x ^ 3 \\biggr\\rvert_ {0}^{1} = 3 - 2 = 1$$\n",
    "\n",
    "**(C)** The integral is 1, satisfying Equation 4.3.\n",
    "\n",
    "**(D)** The maximal value is 0.5.\n",
    "\n",
    "## Exercise 5 - Using the normal distribution to describe beliefs.\n",
    "\n",
    "**(A)** Approximate the probability mass from $\\mu - \\alpha$ to $\\mu + \\alpha$."
   ]
  },
  {
   "cell_type": "code",
   "execution_count": 14,
   "metadata": {},
   "outputs": [],
   "source": [
    "from scipy.stats import norm"
   ]
  },
  {
   "cell_type": "code",
   "execution_count": 15,
   "metadata": {},
   "outputs": [],
   "source": [
    "mu = 0\n",
    "alpha = 1\n",
    "norm_pdf = norm(mu, alpha).pdf\n",
    "\n",
    "dx = 0.01\n",
    "base = np.arange(-3, 3, dx)\n",
    "x = np.arange(-alpha, alpha, dx)"
   ]
  },
  {
   "cell_type": "code",
   "execution_count": 16,
   "metadata": {},
   "outputs": [
    {
     "data": {
      "image/png": "[encoded data removed]",
      "text/plain": [
       "<Figure size 432x288 with 1 Axes>"
      ]
     },
     "metadata": {
      "needs_background": "light"
     },
     "output_type": "display_data"
    }
   ],
   "source": [
    "plt.plot(base, norm_pdf(base))\n",
    "plt.fill_between(x, 0, norm_pdf(x), alpha=0.3)\n",
    "plt.title('Normal distribution probability density function')\n",
    "plt.xticks([-1, 0, 1], [\"$\\mu - alpha$\", \"$\\mu$\", \"$\\mu + alpha$\"])\n",
    "plt.yticks([], []);"
   ]
  },
  {
   "cell_type": "code",
   "execution_count": 17,
   "metadata": {},
   "outputs": [
    {
     "name": "stdout",
     "output_type": "stream",
     "text": [
      "Approximated integral = 0.683\n"
     ]
    }
   ],
   "source": [
    "integral = np.sum(norm_pdf(x) * dx)\n",
    "print('Approximated integral = {:.3}'.format(integral))"
   ]
  },
  {
   "cell_type": "markdown",
   "metadata": {},
   "source": [
    "**(B)** If women's heights are normally distributed, centered at 162cm and with 2/3 of them between 147 and 177cm, then $\\mu = 162$ and $\\alpha = 177 - 162 = 15$.\n",
    "\n",
    "## Exercise 6 - Conditional probability, join probability, and independence of attributes"
   ]
  },
  {
   "cell_type": "code",
   "execution_count": 18,
   "metadata": {},
   "outputs": [
    {
     "data": {
      "text/html": [
       "<div>\n",
       "<style scoped>\n",
       "    .dataframe tbody tr th:only-of-type {\n",
       "        vertical-align: middle;\n",
       "    }\n",
       "\n",
       "    .dataframe tbody tr th {\n",
       "        vertical-align: top;\n",
       "    }\n",
       "\n",
       "    .dataframe thead th {\n",
       "        text-align: right;\n",
       "    }\n",
       "</style>\n",
       "<table border=\"1\" class=\"dataframe\">\n",
       "  <thead>\n",
       "    <tr style=\"text-align: right;\">\n",
       "      <th></th>\n",
       "      <th>IceCream</th>\n",
       "      <th>Fruit</th>\n",
       "      <th>FrenchFries</th>\n",
       "    </tr>\n",
       "  </thead>\n",
       "  <tbody>\n",
       "    <tr>\n",
       "      <th>1st</th>\n",
       "      <td>0.06</td>\n",
       "      <td>0.12</td>\n",
       "      <td>0.02</td>\n",
       "    </tr>\n",
       "    <tr>\n",
       "      <th>6th</th>\n",
       "      <td>0.12</td>\n",
       "      <td>0.06</td>\n",
       "      <td>0.02</td>\n",
       "    </tr>\n",
       "    <tr>\n",
       "      <th>11th</th>\n",
       "      <td>0.18</td>\n",
       "      <td>0.06</td>\n",
       "      <td>0.36</td>\n",
       "    </tr>\n",
       "  </tbody>\n",
       "</table>\n",
       "</div>"
      ],
      "text/plain": [
       "      IceCream  Fruit  FrenchFries\n",
       "1st       0.06   0.12         0.02\n",
       "6th       0.12   0.06         0.02\n",
       "11th      0.18   0.06         0.36"
      ]
     },
     "execution_count": 18,
     "metadata": {},
     "output_type": "execute_result"
    }
   ],
   "source": [
    "grades_proportions = np.array([.2, .2, .6])\n",
    "raw_data = [[.3, .6, .1],\n",
    "            [.6, .3, .1],\n",
    "            [.3, .1, .6]]\n",
    "df = pd.DataFrame(raw_data, columns=['IceCream', 'Fruit', 'FrenchFries'], index=['1st', '6th', '11th'])\n",
    "joint_probabilities = df.mul(grades_proportions, axis=0)\n",
    "joint_probabilities"
   ]
  },
  {
   "cell_type": "code",
   "execution_count": 19,
   "metadata": {},
   "outputs": [
    {
     "name": "stdout",
     "output_type": "stream",
     "text": [
      "p(1st, IceCream) = 0.06\n",
      "p(1st) * p(IceCream) = 0.072\n",
      "Are they equal? False\n"
     ]
    }
   ],
   "source": [
    "first_ice_cream = joint_probabilities.loc['1st', 'IceCream']\n",
    "first = joint_probabilities.loc['1st'].sum()\n",
    "ice_cream = joint_probabilities.IceCream.sum()\n",
    "print(\"p(1st, IceCream) = {}\".format(first_ice_cream))\n",
    "print(\"p(1st) * p(IceCream) = {}\".format(ice_cream * first))\n",
    "print('Are they equal? {}'.format(np.allclose(first_ice_cream, ice_cream * first)))"
   ]
  }
 ],
 "metadata": {
  "kernelspec": {
   "display_name": "Python 3",
   "language": "python",
   "name": "python3"
  },
  "language_info": {
   "codemirror_mode": {
    "name": "ipython",
    "version": 3
   },
   "file_extension": ".py",
   "mimetype": "text/x-python",
   "name": "python",
   "nbconvert_exporter": "python",
   "pygments_lexer": "ipython3",
   "version": "3.8.3"
  }
 },
 "nbformat": 4,
 "nbformat_minor": 1
}
